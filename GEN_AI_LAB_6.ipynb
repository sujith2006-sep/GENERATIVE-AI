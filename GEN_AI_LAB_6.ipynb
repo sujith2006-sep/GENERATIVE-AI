{
  "nbformat": 4,
  "nbformat_minor": 0,
  "metadata": {
    "colab": {
      "provenance": []
    },
    "kernelspec": {
      "name": "python3",
      "display_name": "Python 3"
    },
    "language_info": {
      "name": "python"
    }
  },
  "cells": [
    {
      "cell_type": "code",
      "execution_count": 1,
      "metadata": {
        "colab": {
          "base_uri": "https://localhost:8080/"
        },
        "id": "FDuXS77BZwBU",
        "outputId": "210e8013-8c9a-4c67-9721-020766696ce3"
      },
      "outputs": [
        {
          "output_type": "stream",
          "name": "stdout",
          "text": [
            "Epoch 0, Loss: 2.7072692884207474\n",
            "Epoch 1000, Loss: 2.422930968907718e-07\n",
            "Epoch 2000, Loss: 2.3704903802240418e-07\n",
            "Epoch 3000, Loss: 2.350055927845031e-07\n",
            "Epoch 4000, Loss: 2.3299010731656481e-07\n",
            "Epoch 5000, Loss: 2.309960941056721e-07\n",
            "Epoch 6000, Loss: 2.29023250969232e-07\n",
            "Epoch 7000, Loss: 2.270712927154805e-07\n",
            "Epoch 8000, Loss: 2.2513993897049372e-07\n",
            "Epoch 9000, Loss: 2.2322891405759273e-07\n",
            "Test Loss: 6.141167962474555e-07\n",
            "Enter x1 and x2: 0.5 0.6\n",
            "Predicted output: 0.365551090804778\n"
          ]
        }
      ],
      "source": [
        "import numpy as np\n",
        "\n",
        "def sigmoid(x):\n",
        "    return 1 / (1 + np.exp(-x))\n",
        "\n",
        "def sigmoid_derivative(x):\n",
        "    return x * (1 - x)\n",
        "\n",
        "def mean_squared_error(y_true, y_pred):\n",
        "    return np.mean((y_true - y_pred) ** 2)\n",
        "\n",
        "X_train = np.array([[0.1, 0.2], [0.2, 0.3], [0.3, 0.4], [0.6, 0.7], [0.7, 0.8], [0.8, 0.9]])\n",
        "y_train = np.array([[0.3432], [0.3490], [0.3548], [0.3720], [0.3776], [0.3832]])\n",
        "\n",
        "X_test = np.array([[0.4, 0.5], [0.5, 0.6]])\n",
        "y_test = np.array([[0.3606], [0.3663]])\n",
        "\n",
        "np.random.seed(42)\n",
        "n_input = 2\n",
        "n_hidden = 3\n",
        "n_output = 1\n",
        "\n",
        "W1 = np.random.rand(n_input, n_hidden)\n",
        "b1 = np.random.rand(n_hidden)\n",
        "W2 = np.random.rand(n_hidden, n_output)\n",
        "b2 = np.random.rand(n_output)\n",
        "\n",
        "learning_rate = 0.1\n",
        "epochs = 10000\n",
        "\n",
        "for epoch in range(epochs):\n",
        "    hidden_input = np.dot(X_train, W1) + b1\n",
        "    hidden_output = sigmoid(hidden_input)\n",
        "    final_input = np.dot(hidden_output, W2) + b2\n",
        "    final_output = final_input\n",
        "\n",
        "    error = y_train - final_output\n",
        "\n",
        "    d_output = error\n",
        "    d_W2 = np.dot(hidden_output.T, d_output)\n",
        "    d_b2 = np.sum(d_output, axis=0)\n",
        "\n",
        "    d_hidden = np.dot(d_output, W2.T) * sigmoid_derivative(hidden_output)\n",
        "    d_W1 = np.dot(X_train.T, d_hidden)\n",
        "    d_b1 = np.sum(d_hidden, axis=0)\n",
        "\n",
        "    W2 += learning_rate * d_W2\n",
        "    b2 += learning_rate * d_b2\n",
        "    W1 += learning_rate * d_W1\n",
        "    b1 += learning_rate * d_b1\n",
        "\n",
        "    if epoch % 1000 == 0:\n",
        "        loss = mean_squared_error(y_train, final_output)\n",
        "        print(f\"Epoch {epoch}, Loss: {loss}\")\n",
        "\n",
        "hidden_input_test = np.dot(X_test, W1) + b1\n",
        "hidden_output_test = sigmoid(hidden_input_test)\n",
        "final_input_test = np.dot(hidden_output_test, W2) + b2\n",
        "final_output_test = final_input_test\n",
        "\n",
        "test_loss = mean_squared_error(y_test, final_output_test)\n",
        "print(f\"Test Loss: {test_loss}\")\n",
        "\n",
        "\n",
        "x1, x2 = map(float, input(\"Enter x1 and x2: \").split())\n",
        "user_input = np.array([[x1, x2]])\n",
        "hidden_input_user = np.dot(user_input, W1) + b1\n",
        "hidden_output_user = sigmoid(hidden_input_user)\n",
        "final_input_user = np.dot(hidden_output_user, W2) + b2\n",
        "print(f\"Predicted output: {final_input_user[0,0]}\")"
      ]
    }
  ]
}