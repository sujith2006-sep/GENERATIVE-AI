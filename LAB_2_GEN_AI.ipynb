{
  "nbformat": 4,
  "nbformat_minor": 0,
  "metadata": {
    "colab": {
      "provenance": []
    },
    "kernelspec": {
      "name": "python3",
      "display_name": "Python 3"
    },
    "language_info": {
      "name": "python"
    }
  },
  "cells": [
    {
      "cell_type": "markdown",
      "source": [
        "CODE 1"
      ],
      "metadata": {
        "id": "7xFv4YpjxcfD"
      }
    },
    {
      "cell_type": "code",
      "execution_count": 1,
      "metadata": {
        "colab": {
          "base_uri": "https://localhost:8080/"
        },
        "id": "MjE-NRY5wcNQ",
        "outputId": "dc9e0624-ea20-44a4-91cd-e20b566f4023"
      },
      "outputs": [
        {
          "output_type": "stream",
          "name": "stdout",
          "text": [
            "Optimal production of Chocolate A: 2.00 units\n",
            "Optimal production of Chocolate B: 3.00 units\n",
            "Maximum Profit: Rs 27.00\n"
          ]
        }
      ],
      "source": [
        "from scipy.optimize import linprog\n",
        "c = [-6, -5]\n",
        "\n",
        "A = [\n",
        "    [1, 1],\n",
        "    [3, 2]\n",
        "]\n",
        "b = [5, 12]\n",
        "\n",
        "x0_bounds = (0, None)\n",
        "x1_bounds = (0, None)\n",
        "\n",
        "result = linprog(c, A_ub=A, b_ub=b, bounds=[x0_bounds, x1_bounds], method='highs')\n",
        "\n",
        "if result.success:\n",
        "    print(f\"Optimal production of Chocolate A: {result.x[0]:.2f} units\")\n",
        "    print(f\"Optimal production of Chocolate B: {result.x[1]:.2f} units\")\n",
        "    print(f\"Maximum Profit: Rs {result.fun * -1:.2f}\")\n",
        "else:\n",
        "    print(\"No solution found.\")\n"
      ]
    },
    {
      "cell_type": "markdown",
      "source": [
        "CODE 2"
      ],
      "metadata": {
        "id": "xLB7c0hlxprb"
      }
    },
    {
      "cell_type": "code",
      "source": [
        "from scipy.optimize import linprog\n",
        "c = [-50, -120]\n",
        "A = [\n",
        "    [1, 1],\n",
        "    [7000, 2000],\n",
        "    [10, 30]\n",
        "]\n",
        "\n",
        "\n",
        "b = [110, 700000, 1200]\n",
        "\n",
        "x0_bounds = (0, None)\n",
        "x1_bounds = (0, None)\n",
        "\n",
        "result = linprog(c, A_ub=A, b_ub=b, bounds=[x0_bounds, x1_bounds], method='highs')\n",
        "\n",
        "if result.success:\n",
        "    print(f\"Optimal hectares of Wheat to plant: {result.x[0]:.2f} hectares\")\n",
        "    print(f\"Optimal hectares of Barley to plant: {result.x[1]:.2f} hectares\")\n",
        "    print(f\"Maximum Profit: Rs {result.fun * -1:.2f}\")\n",
        "else:\n",
        "    print(\"No solution found.\")\n",
        "\n"
      ],
      "metadata": {
        "colab": {
          "base_uri": "https://localhost:8080/"
        },
        "id": "O84Qeb3dxvEt",
        "outputId": "55fc2ca4-70a1-438f-ae08-2886b2f06026"
      },
      "execution_count": 2,
      "outputs": [
        {
          "output_type": "stream",
          "name": "stdout",
          "text": [
            "Optimal hectares of Wheat to plant: 97.89 hectares\n",
            "Optimal hectares of Barley to plant: 7.37 hectares\n",
            "Maximum Profit: Rs 5778.95\n"
          ]
        }
      ]
    }
  ]
}