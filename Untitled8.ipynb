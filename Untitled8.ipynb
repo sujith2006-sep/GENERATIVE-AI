{
  "nbformat": 4,
  "nbformat_minor": 0,
  "metadata": {
    "colab": {
      "provenance": []
    },
    "kernelspec": {
      "name": "python3",
      "display_name": "Python 3"
    },
    "language_info": {
      "name": "python"
    }
  },
  "cells": [
    {
      "cell_type": "code",
      "execution_count": 1,
      "metadata": {
        "colab": {
          "base_uri": "https://localhost:8080/"
        },
        "id": "EOsq8CfX20DX",
        "outputId": "8b3dfe50-a266-4a44-912f-80b519191348"
      },
      "outputs": [
        {
          "output_type": "stream",
          "name": "stdout",
          "text": [
            "Epoch 0: MSE = 1.555423\n",
            "Final Training MSE: 0.070971\n",
            "Final Test MSE: 0.206000\n",
            "Enter x1, x2, x3: 0.1 0.2 0.3\n",
            "Predicted Output: 0.244271\n"
          ]
        }
      ],
      "source": [
        "import numpy as np\n",
        "\n",
        "X_train = np.array([\n",
        "    [0.1, 0.2, 0.3],\n",
        "    [0.2, 0.3, 0.4],\n",
        "    [0.3, 0.4, 0.5],\n",
        "    [0.5, 0.6, 0.7],\n",
        "    [0.1, 0.3, 0.5],\n",
        "    [0.2, 0.4, 0.6],\n",
        "    [0.3, 0.5, 0.7],\n",
        "    [0.4, 0.6, 0.8],\n",
        "    [0.5, 0.7, 0.1]\n",
        "])\n",
        "\n",
        "y_train = np.array([0.14, 0.20, 0.26, 0.38, 0.22, 0.28, 0.34, 0.40, 0.22])\n",
        "\n",
        "X_test = np.array([\n",
        "    [0.6, 0.7, 0.8],\n",
        "    [0.7, 0.8, 0.9]\n",
        "])\n",
        "\n",
        "y_test = np.array([0.44, 0.50])\n",
        "\n",
        "np.random.seed(42)\n",
        "weights = np.random.rand(3)\n",
        "bias = np.random.rand(1)\n",
        "\n",
        "learning_rate = 0.01\n",
        "epochs = 100\n",
        "\n",
        "for epoch in range(epochs):\n",
        "    y_pred = np.dot(X_train, weights) + bias\n",
        "    error = y_pred - y_train\n",
        "\n",
        "\n",
        "    dW = np.dot(X_train.T, error) / len(X_train)\n",
        "    dB = np.sum(error) / len(X_train)\n",
        "\n",
        "    weights -= learning_rate * dW\n",
        "    bias -= learning_rate * dB\n",
        "\n",
        "    if epoch % 100 == 0:\n",
        "        mse = np.mean(error ** 2)\n",
        "        print(f\"Epoch {epoch}: MSE = {mse:.6f}\")\n",
        "\n",
        "def mean_squared_error(X, y):\n",
        "    y_pred = np.dot(X, weights) + bias\n",
        "    return np.mean((y_pred - y) ** 2)\n",
        "\n",
        "train_mse = mean_squared_error(X_train, y_train)\n",
        "test_mse = mean_squared_error(X_test, y_test)\n",
        "\n",
        "print(f\"Final Training MSE: {train_mse:.6f}\")\n",
        "print(f\"Final Test MSE: {test_mse:.6f}\")\n",
        "\n",
        "user_input = np.array(list(map(float, input(\"Enter x1, x2, x3: \").split())))\n",
        "predicted_output = np.dot(user_input, weights) + bias\n",
        "print(f\"Predicted Output: {predicted_output[0]:.6f}\")"
      ]
    },
    {
      "cell_type": "code",
      "source": [
        "def sigmoid(x):\n",
        "    return 1 / (1 + np.exp(-x))\n",
        "def sigmoid_derivative(x):\n",
        "    return x * (1 - x)\n",
        "def train_ann(X, y, epochs=1000, learning_rate=0.1):\n",
        "    np.random.seed(42)\n",
        "    weights = np.random.rand(X.shape[1])\n",
        "    bias = np.random.rand()\n",
        "    for _ in range(epochs):\n",
        "        linear_output = np.dot(X, weights) + bias\n",
        "        y_pred = sigmoid(linear_output)\n",
        "        error = y - y_pred\n",
        "        d_weights = np.dot(X.T, error * sigmoid_derivative(y_pred)) / X.shape[0]\n",
        "        d_bias = np.sum(error * sigmoid_derivative(y_pred)) / X.shape[0]\n",
        "        weights += learning_rate * d_weights\n",
        "        bias += learning_rate * d_bias\n",
        "    return weights, bias\n",
        "def mean_squared_error(y_true, y_pred):\n",
        "    return np.mean((y_true - y_pred) ** 2)\n",
        "def predict(X, weights, bias):\n",
        "    return sigmoid(np.dot(X, weights) + bias)\n",
        "train_X = np.array([\n",
        "    [0.1, 0.2, 0.3],\n",
        "    [0.2, 0.3, 0.4],\n",
        "    [0.3, 0.4, 0.5],\n",
        "    [0.5, 0.6, 0.7],\n",
        "    [0.1, 0.3, 0.5],\n",
        "    [0.2, 0.4, 0.6],\n",
        "    [0.3, 0.5, 0.7],\n",
        "    [0.4, 0.6, 0.8],\n",
        "    [0.5, 0.7, 0.1]\n",
        "])\n",
        "train_y = np.array([0.5349, 0.5498, 0.5646, 0.5939, 0.5548, 0.5695, 0.5842, 0.5987, 0.5548])\n",
        "weights, bias = train_ann(train_X, train_y)\n",
        "test_X = np.array([\n",
        "    [0.6, 0.7, 0.8],\n",
        "    [0.7, 0.8, 0.9]\n",
        "])\n",
        "test_y = np.array([0.6083, 0.6225])\n",
        "\n",
        "train_predictions = predict(train_X, weights, bias)\n",
        "test_predictions = predict(test_X, weights, bias)\n",
        "train_mse = mean_squared_error(train_y, train_predictions)\n",
        "test_mse = mean_squared_error(test_y, test_predictions)\n",
        "print(f\"Training MSE: {train_mse}\")\n",
        "print(f\"Testing MSE: {test_mse}\")\n",
        "x_input = np.array([float(i) for i in input(\"Enter three values separated by space: \").split()])\n",
        "output = predict(x_input, weights, bias)\n",
        "print(f\"Predicted Output: {output}\")"
      ],
      "metadata": {
        "colab": {
          "base_uri": "https://localhost:8080/"
        },
        "id": "dWEPwIBM3x8N",
        "outputId": "0363011e-3077-48f5-a067-a06eb44bbfc7"
      },
      "execution_count": null,
      "outputs": [
        {
          "output_type": "stream",
          "name": "stdout",
          "text": [
            "Training MSE: 0.00019827266619758076\n",
            "Testing MSE: 0.0007241244444640872\n"
          ]
        }
      ]
    }
  ]
}